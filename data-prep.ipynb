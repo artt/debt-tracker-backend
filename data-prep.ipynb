{
 "cells": [
  {
   "cell_type": "code",
   "execution_count": 1,
   "metadata": {},
   "outputs": [],
   "source": [
    "import pandas as pd"
   ]
  },
  {
   "cell_type": "code",
   "execution_count": 40,
   "metadata": {},
   "outputs": [],
   "source": [
    "df = pd.read_csv(\"table-71-raw.csv\")\n",
    "unique = ['opened_ym', 'control_fi', 'flag_newbrw']\n",
    "facets = list(df.columns[2:7])\n",
    "values = ['sum_curbal', 'num_ac']\n",
    "df = df.sort_values(unique)[unique + facets + values]"
   ]
  },
  {
   "cell_type": "code",
   "execution_count": 46,
   "metadata": {},
   "outputs": [],
   "source": [
    "for f in facets:\n",
    "  x = unique + [f]\n",
    "  tmp = df[x + values].groupby(x, dropna=False).sum()\n",
    "  tmp.to_json(f + '.json', orient=\"index\")"
   ]
  },
  {
   "cell_type": "code",
   "execution_count": 49,
   "metadata": {},
   "outputs": [],
   "source": [
    "tmp.to_json('test.json', orient=\"split\")"
   ]
  },
  {
   "cell_type": "code",
   "execution_count": null,
   "metadata": {},
   "outputs": [],
   "source": []
  }
 ],
 "metadata": {
  "kernelspec": {
   "display_name": "Python 3.10.2 ('home')",
   "language": "python",
   "name": "python3"
  },
  "language_info": {
   "codemirror_mode": {
    "name": "ipython",
    "version": 3
   },
   "file_extension": ".py",
   "mimetype": "text/x-python",
   "name": "python",
   "nbconvert_exporter": "python",
   "pygments_lexer": "ipython3",
   "version": "3.10.2"
  },
  "orig_nbformat": 4,
  "vscode": {
   "interpreter": {
    "hash": "c863d41d3012073f8c72f956cde63d037ecdd83143035929349078b5da968957"
   }
  }
 },
 "nbformat": 4,
 "nbformat_minor": 2
}
