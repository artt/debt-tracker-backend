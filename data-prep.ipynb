{
 "cells": [
  {
   "cell_type": "code",
   "execution_count": 1,
   "metadata": {},
   "outputs": [],
   "source": [
    "import pandas as pd"
   ]
  },
  {
   "cell_type": "code",
   "execution_count": 148,
   "metadata": {},
   "outputs": [],
   "source": [
    "df = pd.read_csv(\"raw/table-71.csv\").fillna(-1).convert_dtypes().rename(columns={\n",
    "  'opened_ym': 'date',\n",
    "  'control_fi': 'isControlled',\n",
    "  'loan_type': 'loanType',\n",
    "  'grp_age': 'ageGroup',\n",
    "  'fi_type': 'fiType',\n",
    "  'flag_urban_2021': 'isUrban',\n",
    "  'region_code': 'region',\n",
    "  'flag_newbrw': 'isNewBorrower',\n",
    "  'sum_curbal': 'amount',\n",
    "  'num_ac': 'accounts'\n",
    "})\n",
    "\n",
    "# use 0 for NaNs in value columns\n",
    "df['amount'] = df['amount'].replace(-1, 0)\n",
    "df['accounts'] = df['accounts'].replace(-1, 0)\n",
    "\n",
    "unique = ['date', 'isControlled']\n",
    "facets = list(df.columns[2:8])\n",
    "values = ['amount', 'accounts']\n",
    "df = df.sort_values(unique)[unique + facets + values]"
   ]
  },
  {
   "cell_type": "code",
   "execution_count": 218,
   "metadata": {},
   "outputs": [],
   "source": [
    "# one way to do it is split the database into many json files\n",
    "\n",
    "for f in facets:\n",
    "  x = unique + [f]\n",
    "  tmp = df[x + values].groupby(x, dropna=False).sum()\n",
    "  new_index = pd.MultiIndex.from_product([tmp.index.unique(level=0), tmp.index.unique(level=1), tmp.index.unique(level=2)])\n",
    "  tmp = tmp.reindex(new_index).fillna(0)\n",
    "  tmp = tmp.sort_values([f] + unique[::-1]).droplevel(0)\n",
    "  groupby = [f] + unique[1:]\n",
    "  tmp = tmp.groupby(groupby).agg(\n",
    "    amount=('amount', pd.Series.to_list),\n",
    "    accounts=('accounts', pd.Series.to_list)\n",
    "  )\n",
    "  tmp = tmp.reset_index()\n",
    "  tmp[groupby + ['amount']].to_json('json/table-71-' + f + '-amount.json', orient=\"records\")\n",
    "  tmp[groupby + ['accounts']].to_json('json/table-71-' + f + '-accounts.json', orient=\"records\")"
   ]
  }
 ],
 "metadata": {
  "kernelspec": {
   "display_name": "Python 3.10.2 ('home')",
   "language": "python",
   "name": "python3"
  },
  "language_info": {
   "codemirror_mode": {
    "name": "ipython",
    "version": 3
   },
   "file_extension": ".py",
   "mimetype": "text/x-python",
   "name": "python",
   "nbconvert_exporter": "python",
   "pygments_lexer": "ipython3",
   "version": "3.10.2"
  },
  "orig_nbformat": 4,
  "vscode": {
   "interpreter": {
    "hash": "c863d41d3012073f8c72f956cde63d037ecdd83143035929349078b5da968957"
   }
  }
 },
 "nbformat": 4,
 "nbformat_minor": 2
}
